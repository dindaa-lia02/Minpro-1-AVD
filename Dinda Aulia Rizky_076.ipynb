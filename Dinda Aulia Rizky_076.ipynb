{
  "nbformat": 4,
  "nbformat_minor": 0,
  "metadata": {
    "colab": {
      "provenance": [],
      "authorship_tag": "ABX9TyPQdI6qK95zMvWJc4FrlKGc",
      "include_colab_link": true
    },
    "kernelspec": {
      "name": "python3",
      "display_name": "Python 3"
    },
    "language_info": {
      "name": "python"
    }
  },
  "cells": [
    {
      "cell_type": "markdown",
      "metadata": {
        "id": "view-in-github",
        "colab_type": "text"
      },
      "source": [
        "<a href=\"https://colab.research.google.com/github/dindaa-lia02/Minpro-1-AVD/blob/main/Dinda%20Aulia%20Rizky_076.ipynb\" target=\"_parent\"><img src=\"https://colab.research.google.com/assets/colab-badge.svg\" alt=\"Open In Colab\"/></a>"
      ]
    },
    {
      "cell_type": "markdown",
      "source": [
        "Nama: Dinda Aulia Rizky\n",
        "\n",
        "NIM : 2409116076\n"
      ],
      "metadata": {
        "id": "C_RApliv_dCj"
      }
    },
    {
      "cell_type": "markdown",
      "source": [
        "# **Studi Kasus**"
      ],
      "metadata": {
        "id": "Rk3nYz1cHkvj"
      }
    },
    {
      "cell_type": "markdown",
      "source": [
        "Saat ini daya saing pasar yang cukup ketat membuat pemilik bisnis memerlukan analisis  pola perilaku pelanggan yang memungkinkan segmentasi yang lebih tepat untuk meningkatkan efisiensi operasional dan profitabilitas. Prediksi pendapatan harian dapat dilakukan dengan mempertimbangkan faktor seperti jumlah pelanggan, pengeluaran pemasaran, jumlah staf, dan lalu lintas pejalan kaki. Strategi pemasaran yang efektif dapat dioptimalkan dengan memahami dampak pengeluaran terhadap jumlah pelanggan dan penjualan. Dengan mengetahui waktu dengan kunjungan pelanggan tertinggi, kedai kopi dapat menyesuaikan jam operasional untuk memaksimalkan pendapatan. dengan pendekatan berbasis data, kedai kopi dapat mengoptimalkan pengambilan keputusan, meningkatkan efisiensi operasional, dan memperkuat daya saing di industri minuman. Analisis ini bukan hanya membantu dalam memahami tren bisnis, tetapi juga memberikan solusi strategis untuk pertumbuhan bisnis yang berkelanjutan."
      ],
      "metadata": {
        "id": "KCEMs_8UHrbN"
      }
    },
    {
      "cell_type": "markdown",
      "source": [
        "# **Business Understanding**\n"
      ],
      "metadata": {
        "id": "8lAYQ-x7DMKl"
      }
    },
    {
      "cell_type": "markdown",
      "source": [
        "### **Business Objective**"
      ],
      "metadata": {
        "id": "oC9d7XS2Hvdj"
      }
    },
    {
      "cell_type": "markdown",
      "source": [
        "Tujuan utama dari proyek ini adalah untuk memprediksi pendapatan harian sebuah kedai kopi dari beberapa faktor yang memengaruhi, baik dari faktor internal maupun faktor eksternal.\n",
        "Dengan memahami informasi ini,kedai kopi dapat merancang strategi bisnis berbasis data untuk meningkatkan pendapatan, menarik lebih banyak pelanggan, mengoptimalkan pangsa pasar yang luas, meningkatkan stabilitas bisnis, serta memungkinkan pemilik bisnis atau peneliti untuk membuat keputusan berbasis data yang lebih tepat dan menghindari strategi bisnis di industri minuman yang tidak efektif."
      ],
      "metadata": {
        "id": "sGaMxwYGH3-1"
      }
    },
    {
      "cell_type": "markdown",
      "source": [
        "### **Assess Situation**"
      ],
      "metadata": {
        "id": "A-JTUBVgIEcl"
      }
    },
    {
      "cell_type": "markdown",
      "source": [
        "Situasi bisnis yang mendasari analisis ini adalah mengenai pola operasional dan perilaku pelanggan yang dapat memengaruhi pendapatan harian. Pemasaran yang tidak selalu efektif, persaingan pasar yang ketat, serta Fluktuasi tren pelanggan juga turut memengaruhi aktivitas bisnis kedai kopi ini.\n",
        "Oleh karena itu, diperlukan strategi yang tepat untuk mengoptimalkan pemasaran, sumber daya, serta jam operasional, sehingga dapat bersaing lebih baik di industri minuman."
      ],
      "metadata": {
        "id": "Rzodpwh_IJZB"
      }
    },
    {
      "cell_type": "markdown",
      "source": [
        "### **Data Mining Goals**"
      ],
      "metadata": {
        "id": "wPtOAnkwILLX"
      }
    },
    {
      "cell_type": "markdown",
      "source": [
        "Memprediksi pendapatan harian berdasarkan jumlah pelanggan, pengeluaran pemasaran, jumlah staf, dan lalu lintas pejalan kaki menjadi kunci dalam optimasi bisnis kedai kopi. Strategi pemasaran perlu dianalisis untuk mengetahui dampak pengeluaran terhadap jumlah pelanggan dan penjualan guna mengalokasikan anggaran secara efektif. Selain itu, memahami hubungan lokasi dan lalu lintas pejalan kaki membantu meningkatkan kunjungan pelanggan. Penentuan jam operasional terbaik serta optimasi jumlah karyawan diperlukan agar bisnis tetap efisien dan menguntungkan. Analisis pola perilaku konsumen juga dapat digunakan untuk segmentasi pelanggan dan strategi pemasaran yang lebih tepat sasaran. Identifikasi tren musiman dan pola penjualan mendukung perencanaan pemasaran serta manajemen stok yang lebih baik. Dengan pendekatan berbasis data, kedai kopi dapat meningkatkan pengambilan keputusan, efisiensi operasional, dan daya saing di industri makanan dan minuman."
      ],
      "metadata": {
        "id": "fdjvljwzIOsG"
      }
    },
    {
      "cell_type": "markdown",
      "source": [
        "### **Project Plan**"
      ],
      "metadata": {
        "id": "dHmxpBH7IPm4"
      }
    },
    {
      "cell_type": "markdown",
      "source": [
        "Tahap ini dapat dilakukan dengan melihat faktor utama yang memengaruhi bisnis meliputi jumlah pelanggan, jumlah karyawan, pengeluaran pemasaran, lalu lintas pejalan kaki, dan jam operasional. Penentuan jam operasional terbaik dilakukan dengan menganalisis tren jumlah pelanggan dan pendapatan harian.\n",
        "\n",
        "Strategi pemasaran perlu dianalisis untuk mengetahui dampak pengeluaran terhadap jumlah pelanggan dan penjualan guna mengalokasikan anggaran secara efektif. Selain itu, memahami hubungan lokasi dan lalu lintas pejalan kaki membantu meningkatkan kunjungan pelanggan. Penentuan jam operasional terbaik serta optimasi jumlah karyawan diperlukan agar bisnis tetap efisien dan menguntungkan. Analisis pola perilaku konsumen juga dapat digunakan untuk segmentasi pelanggan dan strategi pemasaran yang lebih tepat sasaran. Identifikasi tren musiman dan pola penjualan mendukung perencanaan pemasaran serta manajemen stok yang lebih baik. Kemudian, evaluasi kesiapan data dilakukan untuk memastikan relevansi dan kelengkapan dataset, sehingga analisis yang dilakukan dapat memberikan solusi bisnis yang efektif bagi kedai kopi untuk dapat meningkatkan pengambilan keputusan, efisiensi operasional, dan daya saing di industri minuman.\n",
        "\n",
        "\n",
        "\n"
      ],
      "metadata": {
        "id": "HYiiU3qXITDP"
      }
    }
  ]
}